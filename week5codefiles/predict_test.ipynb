{
 "cells": [
  {
   "cell_type": "code",
   "execution_count": 1,
   "id": "50228ef5",
   "metadata": {},
   "outputs": [
    {
     "data": {
      "application/javascript": "IPython.notebook.set_autosave_interval(0)"
     },
     "metadata": {},
     "output_type": "display_data"
    },
    {
     "name": "stdout",
     "output_type": "stream",
     "text": [
      "Autosave disabled\n"
     ]
    }
   ],
   "source": [
    "%autosave 0"
   ]
  },
  {
   "cell_type": "code",
   "execution_count": 2,
   "id": "8b1eaa18",
   "metadata": {},
   "outputs": [],
   "source": [
    "import requests"
   ]
  },
  {
   "cell_type": "code",
   "execution_count": 3,
   "id": "096522c5",
   "metadata": {},
   "outputs": [],
   "source": [
    "url = 'http://localhost:9696/predict'"
   ]
  },
  {
   "cell_type": "code",
   "execution_count": 4,
   "id": "bb5f5f5b",
   "metadata": {},
   "outputs": [],
   "source": [
    "client = {\n",
    "        \"reports\": 0,\n",
    "        \"share\": 0.001694,\n",
    "        \"expenditure\": 0.12,\n",
    "        \"owner\": \"yes\"\n",
    "}"
   ]
  },
  {
   "cell_type": "code",
   "execution_count": 10,
   "id": "a2c00f5f",
   "metadata": {},
   "outputs": [],
   "source": [
    "response = requests.post(url,json=client).json()"
   ]
  },
  {
   "cell_type": "code",
   "execution_count": 11,
   "id": "1c066ce6",
   "metadata": {},
   "outputs": [
    {
     "name": "stdout",
     "output_type": "stream",
     "text": [
      "credit card has been issued\n"
     ]
    }
   ],
   "source": [
    "if response['decision'] == False:\n",
    "    print('credit card has been issued')"
   ]
  },
  {
   "cell_type": "code",
   "execution_count": null,
   "id": "9ad94a8b",
   "metadata": {},
   "outputs": [],
   "source": []
  }
 ],
 "metadata": {
  "kernelspec": {
   "display_name": "Python 3.9.7 64-bit",
   "language": "python",
   "name": "python3"
  },
  "language_info": {
   "codemirror_mode": {
    "name": "ipython",
    "version": 3
   },
   "file_extension": ".py",
   "mimetype": "text/x-python",
   "name": "python",
   "nbconvert_exporter": "python",
   "pygments_lexer": "ipython3",
   "version": "3.9.7"
  },
  "vscode": {
   "interpreter": {
    "hash": "3552776023e0e4c933789014f7e96313aaf54778b5786a4b62855c70263392c8"
   }
  }
 },
 "nbformat": 4,
 "nbformat_minor": 5
}
