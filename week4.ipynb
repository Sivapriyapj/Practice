{
 "cells": [
  {
   "cell_type": "code",
   "execution_count": 1,
   "id": "d8949d6b",
   "metadata": {},
   "outputs": [],
   "source": [
    "import numpy as np\n",
    "import pandas as pd\n",
    "import urllib.request\n",
    "from sklearn.model_selection import train_test_split\n",
    "from sklearn.metrics import auc,roc_auc_score,roc_curve\n",
    "from sklearn.linear_model import LogisticRegression\n",
    "from sklearn.model_selection import KFold\n",
    "from tqdm.auto import tqdm\n",
    "from sklearn.feature_extraction import DictVectorizer\n",
    "import matplotlib.pyplot as plt"
   ]
  },
  {
   "cell_type": "code",
   "execution_count": 2,
   "id": "4dec832a",
   "metadata": {},
   "outputs": [
    {
     "name": "stdout",
     "output_type": "stream",
     "text": [
      "Requirement already satisfied: tqdm in c:\\users\\sivapriya\\appdata\\local\\programs\\python\\python39\\lib\\site-packages (4.64.1)\n",
      "Requirement already satisfied: colorama in c:\\users\\sivapriya\\appdata\\local\\programs\\python\\python39\\lib\\site-packages (from tqdm) (0.4.5)\n"
     ]
    }
   ],
   "source": [
    "!pip install tqdm"
   ]
  },
  {
   "cell_type": "code",
   "execution_count": null,
   "id": "01c8a156",
   "metadata": {},
   "outputs": [],
   "source": []
  },
  {
   "cell_type": "code",
   "execution_count": 3,
   "id": "9473e9bd",
   "metadata": {},
   "outputs": [
    {
     "data": {
      "text/plain": [
       "('AER_credit_card_data.csv', <http.client.HTTPMessage at 0x1d87845ef40>)"
      ]
     },
     "execution_count": 3,
     "metadata": {},
     "output_type": "execute_result"
    }
   ],
   "source": [
    "url = 'https://raw.githubusercontent.com/alexeygrigorev/datasets/master/AER_credit_card_data.csv'\n",
    "urllib.request.urlretrieve(url,'AER_credit_card_data.csv')"
   ]
  },
  {
   "cell_type": "code",
   "execution_count": 4,
   "id": "6a12cab2",
   "metadata": {},
   "outputs": [],
   "source": [
    "df = pd.read_csv('AER_credit_card_data.csv')"
   ]
  },
  {
   "cell_type": "code",
   "execution_count": 5,
   "id": "7377f616",
   "metadata": {},
   "outputs": [
    {
     "data": {
      "text/html": [
       "<div>\n",
       "<style scoped>\n",
       "    .dataframe tbody tr th:only-of-type {\n",
       "        vertical-align: middle;\n",
       "    }\n",
       "\n",
       "    .dataframe tbody tr th {\n",
       "        vertical-align: top;\n",
       "    }\n",
       "\n",
       "    .dataframe thead th {\n",
       "        text-align: right;\n",
       "    }\n",
       "</style>\n",
       "<table border=\"1\" class=\"dataframe\">\n",
       "  <thead>\n",
       "    <tr style=\"text-align: right;\">\n",
       "      <th></th>\n",
       "      <th>card</th>\n",
       "      <th>reports</th>\n",
       "      <th>age</th>\n",
       "      <th>income</th>\n",
       "      <th>share</th>\n",
       "      <th>expenditure</th>\n",
       "      <th>owner</th>\n",
       "      <th>selfemp</th>\n",
       "      <th>dependents</th>\n",
       "      <th>months</th>\n",
       "      <th>majorcards</th>\n",
       "      <th>active</th>\n",
       "    </tr>\n",
       "  </thead>\n",
       "  <tbody>\n",
       "    <tr>\n",
       "      <th>0</th>\n",
       "      <td>yes</td>\n",
       "      <td>0</td>\n",
       "      <td>37.66667</td>\n",
       "      <td>4.5200</td>\n",
       "      <td>0.033270</td>\n",
       "      <td>124.983300</td>\n",
       "      <td>yes</td>\n",
       "      <td>no</td>\n",
       "      <td>3</td>\n",
       "      <td>54</td>\n",
       "      <td>1</td>\n",
       "      <td>12</td>\n",
       "    </tr>\n",
       "    <tr>\n",
       "      <th>1</th>\n",
       "      <td>yes</td>\n",
       "      <td>0</td>\n",
       "      <td>33.25000</td>\n",
       "      <td>2.4200</td>\n",
       "      <td>0.005217</td>\n",
       "      <td>9.854167</td>\n",
       "      <td>no</td>\n",
       "      <td>no</td>\n",
       "      <td>3</td>\n",
       "      <td>34</td>\n",
       "      <td>1</td>\n",
       "      <td>13</td>\n",
       "    </tr>\n",
       "    <tr>\n",
       "      <th>2</th>\n",
       "      <td>yes</td>\n",
       "      <td>0</td>\n",
       "      <td>33.66667</td>\n",
       "      <td>4.5000</td>\n",
       "      <td>0.004156</td>\n",
       "      <td>15.000000</td>\n",
       "      <td>yes</td>\n",
       "      <td>no</td>\n",
       "      <td>4</td>\n",
       "      <td>58</td>\n",
       "      <td>1</td>\n",
       "      <td>5</td>\n",
       "    </tr>\n",
       "    <tr>\n",
       "      <th>3</th>\n",
       "      <td>yes</td>\n",
       "      <td>0</td>\n",
       "      <td>30.50000</td>\n",
       "      <td>2.5400</td>\n",
       "      <td>0.065214</td>\n",
       "      <td>137.869200</td>\n",
       "      <td>no</td>\n",
       "      <td>no</td>\n",
       "      <td>0</td>\n",
       "      <td>25</td>\n",
       "      <td>1</td>\n",
       "      <td>7</td>\n",
       "    </tr>\n",
       "    <tr>\n",
       "      <th>4</th>\n",
       "      <td>yes</td>\n",
       "      <td>0</td>\n",
       "      <td>32.16667</td>\n",
       "      <td>9.7867</td>\n",
       "      <td>0.067051</td>\n",
       "      <td>546.503300</td>\n",
       "      <td>yes</td>\n",
       "      <td>no</td>\n",
       "      <td>2</td>\n",
       "      <td>64</td>\n",
       "      <td>1</td>\n",
       "      <td>5</td>\n",
       "    </tr>\n",
       "  </tbody>\n",
       "</table>\n",
       "</div>"
      ],
      "text/plain": [
       "  card  reports       age  income     share  expenditure owner selfemp  \\\n",
       "0  yes        0  37.66667  4.5200  0.033270   124.983300   yes      no   \n",
       "1  yes        0  33.25000  2.4200  0.005217     9.854167    no      no   \n",
       "2  yes        0  33.66667  4.5000  0.004156    15.000000   yes      no   \n",
       "3  yes        0  30.50000  2.5400  0.065214   137.869200    no      no   \n",
       "4  yes        0  32.16667  9.7867  0.067051   546.503300   yes      no   \n",
       "\n",
       "   dependents  months  majorcards  active  \n",
       "0           3      54           1      12  \n",
       "1           3      34           1      13  \n",
       "2           4      58           1       5  \n",
       "3           0      25           1       7  \n",
       "4           2      64           1       5  "
      ]
     },
     "execution_count": 5,
     "metadata": {},
     "output_type": "execute_result"
    }
   ],
   "source": [
    "df.head()"
   ]
  },
  {
   "cell_type": "code",
   "execution_count": 6,
   "id": "502f982d",
   "metadata": {},
   "outputs": [],
   "source": [
    "df.columns = df.columns.str.lower().str.replace(' ','_')\n",
    "categorical_columns = list(df.dtypes[df.dtypes == 'object'].index)\n",
    "for c in categorical_columns:\n",
    "    df[c] =df[c].str.lower().str.replace(' ','_')"
   ]
  },
  {
   "cell_type": "code",
   "execution_count": 7,
   "id": "672edb93",
   "metadata": {},
   "outputs": [
    {
     "data": {
      "text/plain": [
       "['card', 'owner', 'selfemp']"
      ]
     },
     "execution_count": 7,
     "metadata": {},
     "output_type": "execute_result"
    }
   ],
   "source": [
    "categorical_columns"
   ]
  },
  {
   "cell_type": "code",
   "execution_count": 8,
   "id": "28102232",
   "metadata": {},
   "outputs": [
    {
     "data": {
      "text/plain": [
       "card            object\n",
       "reports          int64\n",
       "age            float64\n",
       "income         float64\n",
       "share          float64\n",
       "expenditure    float64\n",
       "owner           object\n",
       "selfemp         object\n",
       "dependents       int64\n",
       "months           int64\n",
       "majorcards       int64\n",
       "active           int64\n",
       "dtype: object"
      ]
     },
     "execution_count": 8,
     "metadata": {},
     "output_type": "execute_result"
    }
   ],
   "source": [
    "df.dtypes"
   ]
  },
  {
   "cell_type": "code",
   "execution_count": 9,
   "id": "0650d048",
   "metadata": {},
   "outputs": [
    {
     "data": {
      "text/plain": [
       "card           0\n",
       "reports        0\n",
       "age            0\n",
       "income         0\n",
       "share          0\n",
       "expenditure    0\n",
       "owner          0\n",
       "selfemp        0\n",
       "dependents     0\n",
       "months         0\n",
       "majorcards     0\n",
       "active         0\n",
       "dtype: int64"
      ]
     },
     "execution_count": 9,
     "metadata": {},
     "output_type": "execute_result"
    }
   ],
   "source": [
    "df.isnull().sum()"
   ]
  },
  {
   "cell_type": "code",
   "execution_count": 10,
   "id": "8e479d8e",
   "metadata": {},
   "outputs": [],
   "source": [
    "df = df.copy()"
   ]
  },
  {
   "cell_type": "code",
   "execution_count": 11,
   "id": "fd554f5e",
   "metadata": {},
   "outputs": [],
   "source": [
    "target = (df.card ==\"yes\").astype(int)\n",
    "target\n",
    "target.name ='target'"
   ]
  },
  {
   "cell_type": "code",
   "execution_count": 12,
   "id": "cfcfaef9",
   "metadata": {},
   "outputs": [],
   "source": [
    "df =df.join(target)"
   ]
  },
  {
   "cell_type": "code",
   "execution_count": 13,
   "id": "cd828098",
   "metadata": {},
   "outputs": [],
   "source": [
    "df_full_train,df_test = train_test_split(\n",
    "    df,\n",
    "    test_size=0.2,\n",
    "    random_state=1,\n",
    ")\n",
    "df_train,df_val = train_test_split(\n",
    "    df_full_train,\n",
    "    test_size=0.25,\n",
    "    random_state=1,\n",
    ")"
   ]
  },
  {
   "cell_type": "code",
   "execution_count": 14,
   "id": "11a850a9",
   "metadata": {},
   "outputs": [],
   "source": [
    "df_train = df_train.reset_index(drop=True)\n",
    "df_val = df_val.reset_index(drop=True)\n",
    "df_test = df_test.reset_index(drop=True)"
   ]
  },
  {
   "cell_type": "code",
   "execution_count": 15,
   "id": "d494f15c",
   "metadata": {},
   "outputs": [],
   "source": [
    "y_train = df_train.target.values\n",
    "y_val = df_val.target.values\n",
    "y_test = df_test.target.values"
   ]
  },
  {
   "cell_type": "code",
   "execution_count": 16,
   "id": "3f870ef2",
   "metadata": {},
   "outputs": [],
   "source": [
    "del df_train['target']\n",
    "del df_val['target']\n",
    "del df_test['target']"
   ]
  },
  {
   "cell_type": "code",
   "execution_count": 17,
   "id": "ddaf917d",
   "metadata": {},
   "outputs": [
    {
     "data": {
      "text/html": [
       "<div>\n",
       "<style scoped>\n",
       "    .dataframe tbody tr th:only-of-type {\n",
       "        vertical-align: middle;\n",
       "    }\n",
       "\n",
       "    .dataframe tbody tr th {\n",
       "        vertical-align: top;\n",
       "    }\n",
       "\n",
       "    .dataframe thead th {\n",
       "        text-align: right;\n",
       "    }\n",
       "</style>\n",
       "<table border=\"1\" class=\"dataframe\">\n",
       "  <thead>\n",
       "    <tr style=\"text-align: right;\">\n",
       "      <th></th>\n",
       "      <th>card</th>\n",
       "      <th>reports</th>\n",
       "      <th>age</th>\n",
       "      <th>income</th>\n",
       "      <th>share</th>\n",
       "      <th>expenditure</th>\n",
       "      <th>owner</th>\n",
       "      <th>selfemp</th>\n",
       "      <th>dependents</th>\n",
       "      <th>months</th>\n",
       "      <th>majorcards</th>\n",
       "      <th>active</th>\n",
       "    </tr>\n",
       "  </thead>\n",
       "  <tbody>\n",
       "    <tr>\n",
       "      <th>0</th>\n",
       "      <td>no</td>\n",
       "      <td>3</td>\n",
       "      <td>40.50000</td>\n",
       "      <td>4.0128</td>\n",
       "      <td>0.000299</td>\n",
       "      <td>0.00000</td>\n",
       "      <td>no</td>\n",
       "      <td>no</td>\n",
       "      <td>1</td>\n",
       "      <td>12</td>\n",
       "      <td>1</td>\n",
       "      <td>17</td>\n",
       "    </tr>\n",
       "    <tr>\n",
       "      <th>1</th>\n",
       "      <td>no</td>\n",
       "      <td>1</td>\n",
       "      <td>32.33333</td>\n",
       "      <td>6.0000</td>\n",
       "      <td>0.000200</td>\n",
       "      <td>0.00000</td>\n",
       "      <td>yes</td>\n",
       "      <td>no</td>\n",
       "      <td>4</td>\n",
       "      <td>18</td>\n",
       "      <td>1</td>\n",
       "      <td>4</td>\n",
       "    </tr>\n",
       "    <tr>\n",
       "      <th>2</th>\n",
       "      <td>yes</td>\n",
       "      <td>1</td>\n",
       "      <td>29.16667</td>\n",
       "      <td>2.2000</td>\n",
       "      <td>0.038205</td>\n",
       "      <td>69.79333</td>\n",
       "      <td>no</td>\n",
       "      <td>no</td>\n",
       "      <td>0</td>\n",
       "      <td>49</td>\n",
       "      <td>1</td>\n",
       "      <td>7</td>\n",
       "    </tr>\n",
       "    <tr>\n",
       "      <th>3</th>\n",
       "      <td>yes</td>\n",
       "      <td>1</td>\n",
       "      <td>54.66667</td>\n",
       "      <td>7.2900</td>\n",
       "      <td>0.106536</td>\n",
       "      <td>647.20670</td>\n",
       "      <td>yes</td>\n",
       "      <td>no</td>\n",
       "      <td>2</td>\n",
       "      <td>78</td>\n",
       "      <td>1</td>\n",
       "      <td>9</td>\n",
       "    </tr>\n",
       "    <tr>\n",
       "      <th>4</th>\n",
       "      <td>yes</td>\n",
       "      <td>0</td>\n",
       "      <td>25.00000</td>\n",
       "      <td>3.3984</td>\n",
       "      <td>0.000353</td>\n",
       "      <td>0.00000</td>\n",
       "      <td>yes</td>\n",
       "      <td>no</td>\n",
       "      <td>2</td>\n",
       "      <td>29</td>\n",
       "      <td>0</td>\n",
       "      <td>4</td>\n",
       "    </tr>\n",
       "    <tr>\n",
       "      <th>...</th>\n",
       "      <td>...</td>\n",
       "      <td>...</td>\n",
       "      <td>...</td>\n",
       "      <td>...</td>\n",
       "      <td>...</td>\n",
       "      <td>...</td>\n",
       "      <td>...</td>\n",
       "      <td>...</td>\n",
       "      <td>...</td>\n",
       "      <td>...</td>\n",
       "      <td>...</td>\n",
       "      <td>...</td>\n",
       "    </tr>\n",
       "    <tr>\n",
       "      <th>786</th>\n",
       "      <td>yes</td>\n",
       "      <td>0</td>\n",
       "      <td>53.00000</td>\n",
       "      <td>2.4500</td>\n",
       "      <td>0.017718</td>\n",
       "      <td>35.67500</td>\n",
       "      <td>yes</td>\n",
       "      <td>no</td>\n",
       "      <td>0</td>\n",
       "      <td>3</td>\n",
       "      <td>1</td>\n",
       "      <td>11</td>\n",
       "    </tr>\n",
       "    <tr>\n",
       "      <th>787</th>\n",
       "      <td>no</td>\n",
       "      <td>2</td>\n",
       "      <td>30.58333</td>\n",
       "      <td>2.5000</td>\n",
       "      <td>0.000480</td>\n",
       "      <td>0.00000</td>\n",
       "      <td>no</td>\n",
       "      <td>no</td>\n",
       "      <td>0</td>\n",
       "      <td>12</td>\n",
       "      <td>1</td>\n",
       "      <td>18</td>\n",
       "    </tr>\n",
       "    <tr>\n",
       "      <th>788</th>\n",
       "      <td>yes</td>\n",
       "      <td>0</td>\n",
       "      <td>24.75000</td>\n",
       "      <td>1.8750</td>\n",
       "      <td>0.080708</td>\n",
       "      <td>126.02250</td>\n",
       "      <td>no</td>\n",
       "      <td>no</td>\n",
       "      <td>1</td>\n",
       "      <td>14</td>\n",
       "      <td>0</td>\n",
       "      <td>1</td>\n",
       "    </tr>\n",
       "    <tr>\n",
       "      <th>789</th>\n",
       "      <td>yes</td>\n",
       "      <td>1</td>\n",
       "      <td>56.91667</td>\n",
       "      <td>3.4838</td>\n",
       "      <td>0.062895</td>\n",
       "      <td>182.09580</td>\n",
       "      <td>yes</td>\n",
       "      <td>no</td>\n",
       "      <td>0</td>\n",
       "      <td>540</td>\n",
       "      <td>1</td>\n",
       "      <td>7</td>\n",
       "    </tr>\n",
       "    <tr>\n",
       "      <th>790</th>\n",
       "      <td>no</td>\n",
       "      <td>2</td>\n",
       "      <td>24.58333</td>\n",
       "      <td>2.2000</td>\n",
       "      <td>0.000545</td>\n",
       "      <td>0.00000</td>\n",
       "      <td>no</td>\n",
       "      <td>no</td>\n",
       "      <td>0</td>\n",
       "      <td>6</td>\n",
       "      <td>1</td>\n",
       "      <td>8</td>\n",
       "    </tr>\n",
       "  </tbody>\n",
       "</table>\n",
       "<p>791 rows × 12 columns</p>\n",
       "</div>"
      ],
      "text/plain": [
       "    card  reports       age  income     share  expenditure owner selfemp  \\\n",
       "0     no        3  40.50000  4.0128  0.000299      0.00000    no      no   \n",
       "1     no        1  32.33333  6.0000  0.000200      0.00000   yes      no   \n",
       "2    yes        1  29.16667  2.2000  0.038205     69.79333    no      no   \n",
       "3    yes        1  54.66667  7.2900  0.106536    647.20670   yes      no   \n",
       "4    yes        0  25.00000  3.3984  0.000353      0.00000   yes      no   \n",
       "..   ...      ...       ...     ...       ...          ...   ...     ...   \n",
       "786  yes        0  53.00000  2.4500  0.017718     35.67500   yes      no   \n",
       "787   no        2  30.58333  2.5000  0.000480      0.00000    no      no   \n",
       "788  yes        0  24.75000  1.8750  0.080708    126.02250    no      no   \n",
       "789  yes        1  56.91667  3.4838  0.062895    182.09580   yes      no   \n",
       "790   no        2  24.58333  2.2000  0.000545      0.00000    no      no   \n",
       "\n",
       "     dependents  months  majorcards  active  \n",
       "0             1      12           1      17  \n",
       "1             4      18           1       4  \n",
       "2             0      49           1       7  \n",
       "3             2      78           1       9  \n",
       "4             2      29           0       4  \n",
       "..          ...     ...         ...     ...  \n",
       "786           0       3           1      11  \n",
       "787           0      12           1      18  \n",
       "788           1      14           0       1  \n",
       "789           0     540           1       7  \n",
       "790           0       6           1       8  \n",
       "\n",
       "[791 rows x 12 columns]"
      ]
     },
     "execution_count": 17,
     "metadata": {},
     "output_type": "execute_result"
    }
   ],
   "source": [
    "df_train"
   ]
  },
  {
   "cell_type": "code",
   "execution_count": 18,
   "id": "2381a1ec",
   "metadata": {},
   "outputs": [
    {
     "data": {
      "text/plain": [
       "card            object\n",
       "reports          int64\n",
       "age            float64\n",
       "income         float64\n",
       "share          float64\n",
       "expenditure    float64\n",
       "owner           object\n",
       "selfemp         object\n",
       "dependents       int64\n",
       "months           int64\n",
       "majorcards       int64\n",
       "active           int64\n",
       "target           int32\n",
       "dtype: object"
      ]
     },
     "execution_count": 18,
     "metadata": {},
     "output_type": "execute_result"
    }
   ],
   "source": [
    "#question1\n",
    "df.dtypes"
   ]
  },
  {
   "cell_type": "code",
   "execution_count": 19,
   "id": "6fdc2763",
   "metadata": {},
   "outputs": [
    {
     "name": "stdout",
     "output_type": "stream",
     "text": [
      "['score of reports = 0.7166629860689376', 'score of dependents = 0.5327757227773791', 'score of active = 0.6043173411362006', 'score of share = 0.989183643423692']\n"
     ]
    }
   ],
   "source": [
    "#Question1\n",
    "list = ['reports','dependents','active','share']\n",
    "features = df[list]\n",
    "features\n",
    "scores = []\n",
    "for i in features.columns:\n",
    "    fpr, tpr, thresholds = roc_curve((df_train['card'].values ==\"yes\").astype(int),df_train[i].values, pos_label = 1)\n",
    "    aucval = auc(fpr, tpr)\n",
    "    if aucval < 0.5:\n",
    "        fpr, tpr, thresholds = roc_curve((df_train['card'].values ==\"yes\").astype(int),-1*(df_train[i].values), pos_label = 1)\n",
    "        aucval = auc(fpr, tpr)\n",
    "        \n",
    "    scores.append(f\"score of {i} = {aucval}\")\n",
    "print(scores)\n",
    "#AUC goes below 0.5 if the variable is negatively correlated with the target variable."
   ]
  },
  {
   "cell_type": "code",
   "execution_count": 20,
   "id": "f09ab595",
   "metadata": {},
   "outputs": [
    {
     "data": {
      "text/plain": [
       "card            object\n",
       "reports          int64\n",
       "age            float64\n",
       "income         float64\n",
       "share          float64\n",
       "expenditure    float64\n",
       "owner           object\n",
       "selfemp         object\n",
       "dependents       int64\n",
       "months           int64\n",
       "majorcards       int64\n",
       "active           int64\n",
       "target           int32\n",
       "dtype: object"
      ]
     },
     "execution_count": 20,
     "metadata": {},
     "output_type": "execute_result"
    }
   ],
   "source": [
    "df.dtypes"
   ]
  },
  {
   "cell_type": "code",
   "execution_count": 21,
   "id": "64ea833f",
   "metadata": {},
   "outputs": [],
   "source": [
    "categorical = [\"owner\", \"selfemp\"]\n",
    "numerical = [\"reports\", \"age\", \"income\", \"share\", \"expenditure\", \"dependents\", \"months\", \"majorcards\", \"active\"]\n"
   ]
  },
  {
   "cell_type": "code",
   "execution_count": 22,
   "id": "5f879c7c",
   "metadata": {},
   "outputs": [],
   "source": [
    "#Question3\n",
    "def train(df_train,y_train,C=1.0):\n",
    "    dicts = df_train[categorical+numerical].to_dict(orient='records')\n",
    "    dv = DictVectorizer(sparse=False)\n",
    "    X_train = dv.fit_transform(dicts)\n",
    "    model = LogisticRegression(solver='liblinear',C=C,max_iter = 1000)\n",
    "    #C is inverse of regularization parameter, the smaller the C the better the regularization\n",
    "    model.fit(X_train,y_train)\n",
    "    return dv,model"
   ]
  },
  {
   "cell_type": "code",
   "execution_count": 23,
   "id": "d0ea3afd",
   "metadata": {},
   "outputs": [],
   "source": [
    "dv,model = train(df_train,y_train,C=1.0)"
   ]
  },
  {
   "cell_type": "code",
   "execution_count": 24,
   "id": "43649c89",
   "metadata": {},
   "outputs": [],
   "source": [
    "def predict(df_val,dv,model):\n",
    "    dicts = df_val[categorical+numerical].to_dict(orient='records')\n",
    "    X =dv.transform(dicts)\n",
    "    y_pred = model.predict_proba(X)[:,1]\n",
    "    return y_pred"
   ]
  },
  {
   "cell_type": "code",
   "execution_count": null,
   "id": "ca9f48fc",
   "metadata": {},
   "outputs": [],
   "source": []
  },
  {
   "cell_type": "code",
   "execution_count": 25,
   "id": "03477a31",
   "metadata": {},
   "outputs": [],
   "source": [
    "y_pred = predict(df_val,dv,model)"
   ]
  },
  {
   "cell_type": "code",
   "execution_count": 26,
   "id": "c0f28053",
   "metadata": {},
   "outputs": [
    {
     "data": {
      "text/plain": [
       "((264,), (264,), (264, 12))"
      ]
     },
     "execution_count": 26,
     "metadata": {},
     "output_type": "execute_result"
    }
   ],
   "source": [
    "y_pred.shape,y_val.shape,df_val.shape"
   ]
  },
  {
   "cell_type": "code",
   "execution_count": 27,
   "id": "c9f6b90e",
   "metadata": {},
   "outputs": [],
   "source": [
    "fpr,tpr,thresholds = roc_curve(y_val,y_pred)"
   ]
  },
  {
   "cell_type": "code",
   "execution_count": 28,
   "id": "7b7a7b6d",
   "metadata": {},
   "outputs": [
    {
     "data": {
      "text/plain": [
       "0.995"
      ]
     },
     "execution_count": 28,
     "metadata": {},
     "output_type": "execute_result"
    }
   ],
   "source": [
    "#Question 2\n",
    "auc(fpr,tpr).round(3)"
   ]
  },
  {
   "cell_type": "code",
   "execution_count": 29,
   "id": "35ae421d",
   "metadata": {},
   "outputs": [],
   "source": [
    "#question 3"
   ]
  },
  {
   "cell_type": "code",
   "execution_count": 30,
   "id": "0586ac87",
   "metadata": {},
   "outputs": [],
   "source": [
    "t = np.arange(0,1.01,0.01)\n",
    "recall = []\n",
    "precision = []\n",
    "F1 = []\n",
    "for i in t:\n",
    "    predict_positive = (y_pred >= i)\n",
    "    predict_negative = (y_pred < i)\n",
    "    actual_positive = (y_val == 1)\n",
    "    actual_negative = (y_val == 0)\n",
    "    tp = (predict_positive & actual_positive).sum()\n",
    "    tn = (predict_negative & actual_negative).sum()\n",
    "    fp = (predict_positive & actual_negative).sum()\n",
    "    fn = (predict_negative & actual_positive).sum()\n",
    "    precision_val = tp/(tp+fp)\n",
    "    recall_val = tp/(tp+fn)\n",
    "    precision.append(precision_val)\n",
    "    recall.append(recall_val)\n",
    "    F1.append(2*(precision_val*recall_val)/(precision_val+recall_val))\n",
    "    \n"
   ]
  },
  {
   "cell_type": "code",
   "execution_count": 31,
   "id": "f4b35d42",
   "metadata": {},
   "outputs": [
    {
     "data": {
      "text/plain": [
       "<matplotlib.legend.Legend at 0x1d8786060a0>"
      ]
     },
     "execution_count": 31,
     "metadata": {},
     "output_type": "execute_result"
    },
    {
     "data": {
      "image/png": "[encoded data removed]",
      "text/plain": [
       "<Figure size 500x500 with 1 Axes>"
      ]
     },
     "metadata": {},
     "output_type": "display_data"
    }
   ],
   "source": [
    "#question 3\n",
    "plt.figure(figsize=(5,5))\n",
    "plt.plot(t,precision,label='precision')\n",
    "plt.plot(t,recall,label='recall',linestyle='--')\n",
    "plt.legend()"
   ]
  },
  {
   "cell_type": "code",
   "execution_count": 32,
   "id": "5c205d62",
   "metadata": {},
   "outputs": [
    {
     "name": "stdout",
     "output_type": "stream",
     "text": [
      "for treshold 0.0 = 0.8884210526315789\n",
      "for treshold 0.01 = 0.9254385964912281\n",
      "for treshold 0.02 = 0.9315673289183224\n",
      "for treshold 0.03 = 0.946188340807175\n",
      "for treshold 0.04 = 0.9504504504504505\n",
      "for treshold 0.05 = 0.9504504504504505\n",
      "for treshold 0.06 = 0.9569160997732427\n",
      "for treshold 0.07 = 0.9569160997732427\n",
      "for treshold 0.08 = 0.9567198177676538\n",
      "for treshold 0.09 = 0.9567198177676538\n",
      "for treshold 0.1 = 0.958904109589041\n",
      "for treshold 0.11 = 0.958904109589041\n",
      "for treshold 0.12 = 0.958904109589041\n",
      "for treshold 0.13 = 0.9722222222222221\n",
      "for treshold 0.14 = 0.9719626168224299\n",
      "for treshold 0.15 = 0.9719626168224299\n",
      "for treshold 0.16 = 0.9765258215962441\n",
      "for treshold 0.17 = 0.9765258215962441\n",
      "for treshold 0.18 = 0.9764150943396227\n",
      "for treshold 0.19 = 0.9787234042553191\n",
      "for treshold 0.2 = 0.9787234042553191\n",
      "for treshold 0.21 = 0.9787234042553191\n",
      "for treshold 0.22 = 0.9787234042553191\n",
      "for treshold 0.23 = 0.9787234042553191\n",
      "for treshold 0.24 = 0.976303317535545\n",
      "for treshold 0.25 = 0.976303317535545\n",
      "for treshold 0.26 = 0.976303317535545\n",
      "for treshold 0.27 = 0.976303317535545\n",
      "for treshold 0.28 = 0.976303317535545\n",
      "for treshold 0.29 = 0.976303317535545\n",
      "for treshold 0.3 = 0.9738717339667459\n",
      "for treshold 0.31 = 0.9761904761904763\n",
      "for treshold 0.32 = 0.9761904761904763\n",
      "for treshold 0.33 = 0.9761904761904763\n",
      "for treshold 0.34 = 0.9808612440191389\n",
      "for treshold 0.35000000000000003 = 0.9832134292565947\n",
      "for treshold 0.36 = 0.9832134292565947\n",
      "for treshold 0.37 = 0.9832134292565947\n",
      "for treshold 0.38 = 0.9832134292565947\n",
      "for treshold 0.39 = 0.9832134292565947\n",
      "for treshold 0.4 = 0.9832134292565947\n",
      "for treshold 0.41000000000000003 = 0.9832134292565947\n",
      "for treshold 0.42 = 0.9807692307692307\n",
      "for treshold 0.43 = 0.9807692307692307\n",
      "for treshold 0.44 = 0.9807692307692307\n",
      "for treshold 0.45 = 0.9807692307692307\n",
      "for treshold 0.46 = 0.9807692307692307\n",
      "for treshold 0.47000000000000003 = 0.9807692307692307\n",
      "for treshold 0.48 = 0.9807692307692307\n",
      "for treshold 0.49 = 0.9807692307692307\n",
      "for treshold 0.5 = 0.9807692307692307\n",
      "for treshold 0.51 = 0.9807692307692307\n",
      "for treshold 0.52 = 0.9807692307692307\n",
      "for treshold 0.53 = 0.9807692307692307\n",
      "for treshold 0.54 = 0.9807692307692307\n",
      "for treshold 0.55 = 0.9807692307692307\n",
      "for treshold 0.56 = 0.9807692307692307\n",
      "for treshold 0.5700000000000001 = 0.9807692307692307\n",
      "for treshold 0.58 = 0.9807692307692307\n",
      "for treshold 0.59 = 0.9807692307692307\n",
      "for treshold 0.6 = 0.9807692307692307\n",
      "for treshold 0.61 = 0.9807692307692307\n",
      "for treshold 0.62 = 0.9807692307692307\n",
      "for treshold 0.63 = 0.9807692307692307\n",
      "for treshold 0.64 = 0.9807692307692307\n",
      "for treshold 0.65 = 0.9807692307692307\n",
      "for treshold 0.66 = 0.9807692307692307\n",
      "for treshold 0.67 = 0.9807692307692307\n",
      "for treshold 0.68 = 0.9807692307692307\n",
      "for treshold 0.6900000000000001 = 0.9807692307692307\n",
      "for treshold 0.7000000000000001 = 0.9807692307692307\n",
      "for treshold 0.71 = 0.9807692307692307\n",
      "for treshold 0.72 = 0.9807692307692307\n",
      "for treshold 0.73 = 0.9807692307692307\n",
      "for treshold 0.74 = 0.9807692307692307\n",
      "for treshold 0.75 = 0.9807692307692307\n",
      "for treshold 0.76 = 0.9807692307692307\n",
      "for treshold 0.77 = 0.9807692307692307\n",
      "for treshold 0.78 = 0.9807692307692307\n",
      "for treshold 0.79 = 0.9807692307692307\n",
      "for treshold 0.8 = 0.9807692307692307\n",
      "for treshold 0.81 = 0.9807692307692307\n",
      "for treshold 0.8200000000000001 = 0.9807692307692307\n",
      "for treshold 0.8300000000000001 = 0.9807692307692307\n",
      "for treshold 0.84 = 0.9807692307692307\n",
      "for treshold 0.85 = 0.983132530120482\n",
      "for treshold 0.86 = 0.983132530120482\n",
      "for treshold 0.87 = 0.983132530120482\n",
      "for treshold 0.88 = 0.983132530120482\n",
      "for treshold 0.89 = 0.983132530120482\n",
      "for treshold 0.9 = 0.983132530120482\n",
      "for treshold 0.91 = 0.983132530120482\n",
      "for treshold 0.92 = 0.983132530120482\n",
      "for treshold 0.93 = 0.983132530120482\n",
      "for treshold 0.9400000000000001 = 0.983132530120482\n",
      "for treshold 0.9500000000000001 = 0.983132530120482\n",
      "for treshold 0.96 = 0.983132530120482\n",
      "for treshold 0.97 = 0.9806763285024155\n",
      "for treshold 0.98 = 0.9806763285024155\n",
      "for treshold 0.99 = 0.9782082324455207\n"
     ]
    }
   ],
   "source": [
    "i = np.arange(0,1,0.01)\n",
    "for t in range (0,100):\n",
    "    print(f\"for treshold {i[t]} = {F1[t]}\")"
   ]
  },
  {
   "cell_type": "code",
   "execution_count": 33,
   "id": "511cc51e",
   "metadata": {},
   "outputs": [],
   "source": [
    "#Question 4\n"
   ]
  },
  {
   "cell_type": "code",
   "execution_count": 34,
   "id": "da0e846a",
   "metadata": {},
   "outputs": [
    {
     "name": "stdout",
     "output_type": "stream",
     "text": [
      "for treshold 0.1 = 0.8884210526315789\n",
      "for treshold 0.4 = 0.9254385964912281\n",
      "for treshold 0.6 = 0.9315673289183224\n",
      "for treshold 0.7 = 0.946188340807175\n"
     ]
    }
   ],
   "source": [
    "i = [0.1,0.4,0.6,0.7]\n",
    "for t in range (0,4):\n",
    "    print(f\"for treshold {i[t]} = {F1[t]}\")"
   ]
  },
  {
   "cell_type": "code",
   "execution_count": 35,
   "id": "d3beab28",
   "metadata": {},
   "outputs": [],
   "source": [
    "#Question5"
   ]
  },
  {
   "cell_type": "code",
   "execution_count": 36,
   "id": "51da3dc5",
   "metadata": {},
   "outputs": [],
   "source": [
    "kfold = KFold(n_splits=5,shuffle=True,random_state=1)"
   ]
  },
  {
   "cell_type": "code",
   "execution_count": 37,
   "id": "0df4c369",
   "metadata": {},
   "outputs": [
    {
     "data": {
      "text/plain": [
       "((844,), (211,))"
      ]
     },
     "execution_count": 37,
     "metadata": {},
     "output_type": "execute_result"
    }
   ],
   "source": [
    "train_idx,val_idx = next(kfold.split(df_full_train))\n",
    "train_idx.shape,val_idx.shape"
   ]
  },
  {
   "cell_type": "code",
   "execution_count": 38,
   "id": "38e6a2c9",
   "metadata": {},
   "outputs": [
    {
     "data": {
      "text/plain": [
       "1055"
      ]
     },
     "execution_count": 38,
     "metadata": {},
     "output_type": "execute_result"
    }
   ],
   "source": [
    "len(df_full_train)"
   ]
  },
  {
   "cell_type": "code",
   "execution_count": 39,
   "id": "735642a8",
   "metadata": {},
   "outputs": [],
   "source": [
    "df_train = df_full_train.iloc[train_idx]\n",
    "y_train = df_full_train.iloc[train_idx].target.values\n",
    "df_val = df_full_train.iloc[val_idx]\n",
    "y_val = df_val.target.values"
   ]
  },
  {
   "cell_type": "code",
   "execution_count": 40,
   "id": "5a9f2bb3",
   "metadata": {},
   "outputs": [
    {
     "data": {
      "text/plain": [
       "(844, 211, 211, 211, 211)"
      ]
     },
     "execution_count": 40,
     "metadata": {},
     "output_type": "execute_result"
    }
   ],
   "source": [
    "len(train_idx),len(val_idx),len(df_val),len(val_idx),len(y_val)"
   ]
  },
  {
   "cell_type": "code",
   "execution_count": null,
   "id": "a41ac463",
   "metadata": {},
   "outputs": [],
   "source": []
  },
  {
   "cell_type": "code",
   "execution_count": null,
   "id": "54028efe",
   "metadata": {},
   "outputs": [],
   "source": []
  },
  {
   "cell_type": "code",
   "execution_count": 45,
   "id": "b7644d2c",
   "metadata": {},
   "outputs": [
    {
     "name": "stdout",
     "output_type": "stream",
     "text": [
      "standard deviation is : 0.209\n"
     ]
    }
   ],
   "source": [
    "scores=[]\n",
    "for train_idx,val_idx in kfold.split(df_full_train):\n",
    "    df_train = df_full_train.iloc[train_idx]\n",
    "    df_val = df_full_train.iloc[val_idx]\n",
    "    \n",
    "    y_train = df_train.card.values\n",
    "    y_values = df_val.card.values\n",
    "\n",
    "    dv,model = train(df_train,y_train)\n",
    "    y_pred = predict(df_val,dv,model)\n",
    "    auc = roc_auc_score(y_val,y_pred)\n",
    "    scores.append(auc)\n",
    "\n",
    "stand_dev = np.std(scores).round(3)\n",
    "print(f\"standard deviation is : {stand_dev}\")"
   ]
  },
  {
   "cell_type": "code",
   "execution_count": 50,
   "id": "54110dbc",
   "metadata": {},
   "outputs": [
    {
     "data": {
      "application/vnd.jupyter.widget-view+json": {
       "model_id": "6eff8d6bf09e461aa78bcfb3f2ab1e83",
       "version_major": 2,
       "version_minor": 0
      },
      "text/plain": [
       "  0%|          | 0/4 [00:00<?, ?it/s]"
      ]
     },
     "metadata": {},
     "output_type": "display_data"
    },
    {
     "data": {
      "application/vnd.jupyter.widget-view+json": {
       "model_id": "28e2b63262b847c987489a3c9216b0e4",
       "version_major": 2,
       "version_minor": 0
      },
      "text/plain": [
       "  0%|          | 0/5 [00:00<?, ?it/s]"
      ]
     },
     "metadata": {},
     "output_type": "display_data"
    },
    {
     "name": "stdout",
     "output_type": "stream",
     "text": [
      "C=0.01 0.992 += 0.006\n"
     ]
    },
    {
     "data": {
      "application/vnd.jupyter.widget-view+json": {
       "model_id": "e137494dadec4674af4581b2d14fb078",
       "version_major": 2,
       "version_minor": 0
      },
      "text/plain": [
       "  0%|          | 0/5 [00:00<?, ?it/s]"
      ]
     },
     "metadata": {},
     "output_type": "display_data"
    },
    {
     "name": "stdout",
     "output_type": "stream",
     "text": [
      "C=0.1 0.995 += 0.004\n"
     ]
    },
    {
     "data": {
      "application/vnd.jupyter.widget-view+json": {
       "model_id": "ef26a515dae04db497d1561812ff033a",
       "version_major": 2,
       "version_minor": 0
      },
      "text/plain": [
       "  0%|          | 0/5 [00:00<?, ?it/s]"
      ]
     },
     "metadata": {},
     "output_type": "display_data"
    },
    {
     "name": "stdout",
     "output_type": "stream",
     "text": [
      "C=1 0.996 += 0.003\n"
     ]
    },
    {
     "data": {
      "application/vnd.jupyter.widget-view+json": {
       "model_id": "e31654e0ad9c4204935015d9542a1433",
       "version_major": 2,
       "version_minor": 0
      },
      "text/plain": [
       "  0%|          | 0/5 [00:00<?, ?it/s]"
      ]
     },
     "metadata": {},
     "output_type": "display_data"
    },
    {
     "name": "stdout",
     "output_type": "stream",
     "text": [
      "C=10 0.996 += 0.003\n"
     ]
    },
    {
     "ename": "TypeError",
     "evalue": "predict() missing 1 required positional argument: 'model'",
     "output_type": "error",
     "traceback": [
      "\u001b[1;31m---------------------------------------------------------------------------\u001b[0m",
      "\u001b[1;31mTypeError\u001b[0m                                 Traceback (most recent call last)",
      "Input \u001b[1;32mIn [50]\u001b[0m, in \u001b[0;36m<cell line: 29>\u001b[1;34m()\u001b[0m\n\u001b[0;32m     23\u001b[0m \u001b[38;5;66;03m#cross validation --> take higher k values for smaller models , i.e split into ,ore chunks\u001b[39;00m\n\u001b[0;32m     24\u001b[0m \u001b[38;5;66;03m# cross validation helps understand std that gives the stability of model across different data chunks\u001b[39;00m\n\u001b[0;32m     25\u001b[0m \n\u001b[0;32m     26\u001b[0m \n\u001b[0;32m     27\u001b[0m \u001b[38;5;66;03m#Training the model now in full train dataset with the best C value.\u001b[39;00m\n\u001b[0;32m     28\u001b[0m dv,model \u001b[38;5;241m=\u001b[39m train(df_full_train,df_full_train\u001b[38;5;241m.\u001b[39mcard\u001b[38;5;241m.\u001b[39mvalues,C\u001b[38;5;241m=\u001b[39m\u001b[38;5;241m1.0\u001b[39m)\n\u001b[1;32m---> 29\u001b[0m y_pred \u001b[38;5;241m=\u001b[39m \u001b[43mpredict\u001b[49m\u001b[43m(\u001b[49m\u001b[43mdf_val\u001b[49m\u001b[43m,\u001b[49m\u001b[43mmodel\u001b[49m\u001b[43m)\u001b[49m\n\u001b[0;32m     30\u001b[0m auc \u001b[38;5;241m=\u001b[39m roc_auc_score(y_val,y_pred)\n\u001b[0;32m     31\u001b[0m auc\n",
      "\u001b[1;31mTypeError\u001b[0m: predict() missing 1 required positional argument: 'model'"
     ]
    }
   ],
   "source": [
    "#Checking progress of each iteration using tqdm\n",
    "n_splits = 5\n",
    "for C in tqdm([0.01, 0.1, 1, 10]):\n",
    "    kfold = KFold(n_splits=5,shuffle=True,random_state=1)\n",
    "    \n",
    "    scores = []\n",
    "    for train_idx,val_idx in \\\n",
    "        tqdm(kfold.split(df_full_train),total=n_splits):\n",
    "        df_train = df_full_train.iloc[train_idx]\n",
    "        df_val = df_full_train.iloc[val_idx]\n",
    "    \n",
    "        y_train = df_train.card.values\n",
    "        y_val = df_val.card.values\n",
    "\n",
    "        dv,model = train(df_train,y_train,C=C)\n",
    "        y_pred = predict(df_val,dv,model)\n",
    "        auc = roc_auc_score(y_val,y_pred)\n",
    "        scores.append(auc)\n",
    "    print('C=%s %.3f += %.3f' % (C,np.mean(scores), np.std(scores)))\n",
    "    \n",
    "np.mean(scores), np.std(scores)\n",
    "\n",
    "#cross validation --> take higher k values for smaller models , i.e split into ,ore chunks\n",
    "# cross validation helps understand std that gives the stability of model across different data chunks\n",
    "\n",
    "\n",
    "#Training the model now in full train dataset with the best C value.\n",
    "dv,model = train(df_full_train,df_full_train.card.values,C=1.0)\n",
    "y_pred = predict(df_val,model)\n",
    "auc = roc_auc_score(y_val,y_pred)\n",
    "auc\n",
    "# "
   ]
  },
  {
   "cell_type": "code",
   "execution_count": 54,
   "id": "5bd7827f",
   "metadata": {},
   "outputs": [
    {
     "data": {
      "text/plain": [
       "0.996097337006428"
      ]
     },
     "execution_count": 54,
     "metadata": {},
     "output_type": "execute_result"
    }
   ],
   "source": [
    "dv,model = train(df_full_train,df_full_train.target.values,C=1)\n",
    "y_pred = predict(df_test,dv,model)\n",
    "auc = roc_auc_score(y_test,y_pred)\n",
    "auc"
   ]
  },
  {
   "cell_type": "code",
   "execution_count": null,
   "id": "f0be2a98",
   "metadata": {},
   "outputs": [],
   "source": []
  },
  {
   "cell_type": "code",
   "execution_count": null,
   "id": "7070333b",
   "metadata": {},
   "outputs": [],
   "source": []
  },
  {
   "cell_type": "code",
   "execution_count": null,
   "id": "4ea2b42d",
   "metadata": {},
   "outputs": [],
   "source": []
  },
  {
   "cell_type": "code",
   "execution_count": null,
   "id": "0a0ac21f",
   "metadata": {},
   "outputs": [],
   "source": []
  },
  {
   "cell_type": "code",
   "execution_count": null,
   "id": "a85e8cf9",
   "metadata": {},
   "outputs": [],
   "source": []
  },
  {
   "cell_type": "code",
   "execution_count": null,
   "id": "c82126ce",
   "metadata": {},
   "outputs": [],
   "source": []
  },
  {
   "cell_type": "code",
   "execution_count": null,
   "id": "3d28c2dd",
   "metadata": {},
   "outputs": [],
   "source": []
  },
  {
   "cell_type": "code",
   "execution_count": null,
   "id": "73c8908d",
   "metadata": {},
   "outputs": [],
   "source": []
  },
  {
   "cell_type": "code",
   "execution_count": null,
   "id": "b16f71a4",
   "metadata": {},
   "outputs": [],
   "source": []
  }
 ],
 "metadata": {
  "kernelspec": {
   "display_name": "Python 3 (ipykernel)",
   "language": "python",
   "name": "python3"
  },
  "language_info": {
   "codemirror_mode": {
    "name": "ipython",
    "version": 3
   },
   "file_extension": ".py",
   "mimetype": "text/x-python",
   "name": "python",
   "nbconvert_exporter": "python",
   "pygments_lexer": "ipython3",
   "version": "3.9.7"
  }
 },
 "nbformat": 4,
 "nbformat_minor": 5
}
